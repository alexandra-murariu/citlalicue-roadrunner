{
 "cells": [
  {
   "cell_type": "markdown",
   "metadata": {},
   "source": [
    "# Detrend light curves using citlalicue\n",
    "## Oscar Barragán, Sept. 2020\n",
    "### Updated Feb 2022\n",
    "### Powered by [PyTransit](https://github.com/hpparvi/PyTransit) and [george](https://github.com/dfm/george)"
   ]
  },
  {
   "cell_type": "markdown",
   "metadata": {},
   "source": [
    "# Example to detrend the light curve of Pi Men as observed by _TESS_ in its first sector ([Gandolfi et al., (2018)](https://www.aanda.org/articles/aa/abs/2018/11/aa34289-18/aa34289-18.html); [Huang et al., (2018)](https://iopscience.iop.org/article/10.3847/2041-8213/aaef91)).\n",
    "\n",
    "### This tutorial assumes that you have a light curve in ascii format, the light curve for this tutorial is provided [here](https://raw.githubusercontent.com/oscaribv/citlalicue/master/pimen.dat)"
   ]
  },
  {
   "cell_type": "code",
   "execution_count": null,
   "metadata": {},
   "outputs": [],
   "source": [
    "#Load basic libraries\n",
    "from __future__ import print_function, division, absolute_import\n",
    "import numpy as np\n",
    "import matplotlib.pyplot as plt\n",
    "\n",
    "#Import the detrend class from citlalicue\n",
    "from citlalicue.detrending import detrend"
   ]
  },
  {
   "cell_type": "markdown",
   "metadata": {},
   "source": [
    "#### Let us load the data, since our data file does not have a column corresponding to the error bars, we need to provide an error as an input when calling the class"
   ]
  },
  {
   "cell_type": "code",
   "execution_count": null,
   "metadata": {},
   "outputs": [],
   "source": [
    "#Create the instance \"star\" using the \"detrend\" class\n",
    "#The name of the input file in this case is \"pimen.dat\"\n",
    "#err gives an error bar to the data, given that the pimen.dat file does not have\n",
    "#tbin (days) indicates to the code the time window that we will use to bin the data \n",
    "#(in this example we bin the data to 1 hour) \n",
    "#star_name is just the label of the current star\n",
    "star = detrend(\"pimen.dat\",err=2.2e-4,tbin=1./24.,star_name='PiMen')\n",
    "#Plot the data\n",
    "star.plot()"
   ]
  },
  {
   "cell_type": "markdown",
   "metadata": {},
   "source": [
    "### Add transiting planet parameters, so they can be removed from the detrending routines\n"
   ]
  },
  {
   "cell_type": "code",
   "execution_count": null,
   "metadata": {},
   "outputs": [],
   "source": [
    "#pars -> [T0, P, a/R*, b, Rp/R*] x Number of planets\n",
    "#ldc  -> u1, u2\n",
    "planet_pars = [1325.503055,6.26834,13.10,0.0,0.01721]\n",
    "ldc = [0.41,0.17]\n",
    "star.add_transits(pars=planet_pars,ldc=ldc)\n",
    "star.mask_transits(windows=3./24.)\n",
    "star.plot()"
   ]
  },
  {
   "cell_type": "markdown",
   "metadata": {},
   "source": [
    "### Time to create the GP object that will help us to detrend our light curve\n",
    "### Citlalicue uses the kernels provided by george, now the options are \"Exp\", \"Matern32\", \"Matern52\", and Quasi-Periodic \"QP\""
   ]
  },
  {
   "cell_type": "code",
   "execution_count": null,
   "metadata": {},
   "outputs": [],
   "source": [
    "#Let us create a GP using a exponential kernel\n",
    "star.get_gp(Kernel=\"Matern32\",metric=1e3)\n",
    "#This creates the GP with dummy values for the GP hyperparameters"
   ]
  },
  {
   "cell_type": "markdown",
   "metadata": {},
   "source": [
    "### Let us see how the GP looks in our data with the dummy initial parameters"
   ]
  },
  {
   "cell_type": "code",
   "execution_count": null,
   "metadata": {},
   "outputs": [],
   "source": [
    "star.predict()"
   ]
  },
  {
   "cell_type": "markdown",
   "metadata": {},
   "source": [
    "### We can now optimise iteratively for the GP hyper parameters to find the optimal values that describe our data using a sigma clipping algorithm to remove outliers"
   ]
  },
  {
   "cell_type": "code",
   "execution_count": null,
   "metadata": {},
   "outputs": [],
   "source": [
    "star.iterative_optimize(sigma=3.5)"
   ]
  },
  {
   "cell_type": "markdown",
   "metadata": {},
   "source": [
    "### Let us see how the GP looks in our data with the optimised parameters"
   ]
  },
  {
   "cell_type": "code",
   "execution_count": null,
   "metadata": {
    "scrolled": true
   },
   "outputs": [],
   "source": [
    "star.predict()"
   ]
  },
  {
   "cell_type": "markdown",
   "metadata": {},
   "source": [
    "### Now we have a set of values for our GP hyper parameters, we can thus detrend the light curve"
   ]
  },
  {
   "cell_type": "code",
   "execution_count": null,
   "metadata": {},
   "outputs": [],
   "source": [
    "#The detrend method can be called with\n",
    "# 'in' (interpolation), to use an interpolation to compute a lc model to remove from the data (default)\n",
    "# 'gp', to recompute a GP to compute a lc model to remove from the data (this can perform a\n",
    "#better detrending but it takes a long time)\n",
    "star.detrend('in')\n",
    "#Now we have a file called *detrend.dat file with the detrended light curve"
   ]
  },
  {
   "cell_type": "markdown",
   "metadata": {},
   "source": [
    "### Check how the light curve looks now"
   ]
  },
  {
   "cell_type": "code",
   "execution_count": null,
   "metadata": {},
   "outputs": [],
   "source": [
    "star.plot(save=True,plot_transit_model=True,ylim=[0.9965,1.0015])"
   ]
  },
  {
   "cell_type": "markdown",
   "metadata": {},
   "source": [
    "### It might be practical for transit fitting routines to fit only the light curve part with transits, we can do this by cutting the transits in the light curve"
   ]
  },
  {
   "cell_type": "code",
   "execution_count": null,
   "metadata": {},
   "outputs": [],
   "source": [
    "star.cut_transits(windows=[4/24.])\n",
    "#Now we have cut the transits and they are stored in the *_detrended_cut.dat file\n",
    "#Let us plot how the new data set looks like\n",
    "plt.figure(figsize=(15,5))\n",
    "plt.plot(star.time_cut,star.flux_detrended_cut,'k.')\n",
    "plt.plot(star.time,star.flux_planet,'r')"
   ]
  },
  {
   "cell_type": "code",
   "execution_count": null,
   "metadata": {},
   "outputs": [],
   "source": []
  }
 ],
 "metadata": {
  "kernelspec": {
   "display_name": "Python 3",
   "language": "python",
   "name": "python3"
  },
  "language_info": {
   "codemirror_mode": {
    "name": "ipython",
    "version": 3
   },
   "file_extension": ".py",
   "mimetype": "text/x-python",
   "name": "python",
   "nbconvert_exporter": "python",
   "pygments_lexer": "ipython3",
   "version": "3.6.9"
  }
 },
 "nbformat": 4,
 "nbformat_minor": 2
}
